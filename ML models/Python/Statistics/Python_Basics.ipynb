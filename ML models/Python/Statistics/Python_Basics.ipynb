{
 "cells": [
  {
   "cell_type": "markdown",
   "id": "cd2b6b39-798a-4552-b63c-9309ab71f9fb",
   "metadata": {},
   "source": [
    "### Mean Meadian Mode "
   ]
  },
  {
   "cell_type": "code",
   "execution_count": 1,
   "id": "457618e7-6c58-4844-b664-ed61bf87b26d",
   "metadata": {},
   "outputs": [
    {
     "name": "stdin",
     "output_type": "stream",
     "text": [
      "enter no of element : 5\n"
     ]
    },
    {
     "name": "stdout",
     "output_type": "stream",
     "text": [
      "enter elements :\n"
     ]
    },
    {
     "name": "stdin",
     "output_type": "stream",
     "text": [
      " 1\n",
      " 3\n",
      " 5\n",
      " 3\n",
      " 2\n"
     ]
    },
    {
     "name": "stdout",
     "output_type": "stream",
     "text": [
      "mean is  2.8\n",
      "median is  3\n",
      "mode is  0\n"
     ]
    }
   ],
   "source": [
    "L=[]\n",
    "n=int(input(\"enter no of element :\"))\n",
    "print(\"enter elements :\")\n",
    "for i in range(n):\n",
    "    x=int(input())\n",
    "    L.append(x)\n",
    "sum=0\n",
    "for i in L:\n",
    "    sum=sum+i\n",
    "print(\"mean is \",sum/n)\n",
    "L.sort()\n",
    "print(\"median is \",L[n//2])\n",
    "occur=0\n",
    "count=0\n",
    "for i in L:\n",
    "    index=0\n",
    "    count1=0\n",
    "    for j in L:\n",
    "        if i==j:\n",
    "            ++count1\n",
    "            index=i\n",
    "    if count1>count:\n",
    "        count=count1\n",
    "        occur=index\n",
    "print(\"mode is \",occur)"
   ]
  },
  {
   "cell_type": "code",
   "execution_count": 6,
   "id": "efd1abe0-8ca6-4dee-a77e-c04d4253ddad",
   "metadata": {},
   "outputs": [
    {
     "name": "stdout",
     "output_type": "stream",
     "text": [
      "mean is  2.8\n",
      "medain is  3\n",
      "mode is   3\n",
      "minimum of list  1\n",
      "Here is sorted list \n"
     ]
    },
    {
     "data": {
      "text/plain": [
       "[1, 2, 3, 3, 5]"
      ]
     },
     "execution_count": 6,
     "metadata": {},
     "output_type": "execute_result"
    }
   ],
   "source": [
    "import statistics\n",
    "print(\"mean is \",statistics.mean(L))\n",
    "print(\"medain is \",statistics.median(L))\n",
    "print(\"mode is  \",statistics.mode(L))\n",
    "print(\"minimum of list \",min(L))\n",
    "print(\"Here is sorted list \")\n",
    "sorted(L)"
   ]
  },
  {
   "cell_type": "markdown",
   "id": "50ffb57e-0ec0-4fcb-8445-eaca6218c9fd",
   "metadata": {},
   "source": [
    "### Functions"
   ]
  },
  {
   "cell_type": "code",
   "execution_count": 3,
   "id": "6a6d3187-9528-4ec3-8805-6ef69b22f32b",
   "metadata": {},
   "outputs": [
    {
     "name": "stdout",
     "output_type": "stream",
     "text": [
      "hello guys \n",
      "hello guys \n"
     ]
    }
   ],
   "source": [
    "def hello():\n",
    "    print(\"hello guys \")\n",
    "x=2\n",
    "for i in range(x):\n",
    "    hello()\n"
   ]
  },
  {
   "cell_type": "markdown",
   "id": "9369b2c1-d108-41bc-bc55-576f07c39847",
   "metadata": {},
   "source": [
    "###### 1.Functions with arguments"
   ]
  },
  {
   "cell_type": "code",
   "execution_count": 65,
   "id": "ab1c0505-8993-4dce-bf22-ab02ce3e1cab",
   "metadata": {},
   "outputs": [
    {
     "name": "stdout",
     "output_type": "stream",
     "text": [
      "list of numbers :\n",
      "3 3 5 6 8 9 \n",
      "here is average : 5.666666666666667\n"
     ]
    }
   ],
   "source": [
    "def average(*args):\n",
    "    print(\"list of numbers :\")\n",
    "    for i in args:\n",
    "        print(i,end=' ')\n",
    "    print()\n",
    "    return sum(args)/len(args)\n",
    "print(\"here is average :\",average(3,3,5,6,8,9))"
   ]
  },
  {
   "cell_type": "markdown",
   "id": "092963ff-7cfc-4a57-b3d9-3005d357221a",
   "metadata": {},
   "source": [
    "###### 2.Passing List and Tuples as argument"
   ]
  },
  {
   "cell_type": "code",
   "execution_count": 73,
   "id": "ff52cdd6-227f-4b86-a1a1-3936424b1fd5",
   "metadata": {},
   "outputs": [
    {
     "name": "stdout",
     "output_type": "stream",
     "text": [
      "Here is arry :\n",
      "3 5 7 8 4 2 4 6 \n",
      "avg is  4.875\n",
      "Here is arry :\n",
      "2 4 5 6 8 \n",
      "avg is  5.0\n",
      "immutated\n",
      "3 5 7 8 4 2 4 6 "
     ]
    }
   ],
   "source": [
    "def average(*arry):\n",
    "    print(\"Here is arry :\")\n",
    "    Sum=0\n",
    "    length=0\n",
    "    for i in arry:\n",
    "        print(i,end=' ')\n",
    "        Sum +=i\n",
    "        length +=1\n",
    "    print()\n",
    "    return Sum/length\n",
    "\n",
    "def mutate(*arry):\n",
    "    for i in arry:\n",
    "        i=1\n",
    "\n",
    "arry=[3,5,7,8,4,2,4,6]\n",
    "print(\"avg is \",average(*arry))\n",
    "List={2,4,6,8,5}\n",
    "print(\"avg is \",average(*List))\n",
    "\n",
    "mutate(*arry)\n",
    "print(\"immutated\")\n",
    "for i in arry:\n",
    "    print(i,end=' ')\n"
   ]
  },
  {
   "cell_type": "markdown",
   "id": "b6bb91ff-a28f-454c-bcdf-faae470f004b",
   "metadata": {},
   "source": [
    "###### 3.Local and Global Variable "
   ]
  },
  {
   "cell_type": "code",
   "execution_count": 75,
   "id": "b1c0f93e-ba63-4a7a-b03c-047b7afa9651",
   "metadata": {},
   "outputs": [
    {
     "name": "stdout",
     "output_type": "stream",
     "text": [
      "6\n"
     ]
    }
   ],
   "source": [
    "x=3\n",
    "n=2\n",
    "def Power():\n",
    "    return x*n\n",
    "y=4\n",
    "print(Power())"
   ]
  },
  {
   "cell_type": "markdown",
   "id": "9b711c55-5110-48ec-b1b6-06d9f6bdaedc",
   "metadata": {},
   "source": [
    "### power using divide and conquer"
   ]
  },
  {
   "cell_type": "code",
   "execution_count": null,
   "id": "550f6d5b-6dc5-4b0f-b13e-587d713bfe80",
   "metadata": {},
   "outputs": [],
   "source": [
    "x=int(input(\"enter number \"))\n",
    "n=int(input(\"enter power\"))\n",
    "def power(x,n):\n",
    "    if n==0:\n",
    "        return 1\n",
    "    elif n%2==0:\n",
    "        return power(x,n/2)*power(x,n/2)\n",
    "    else:\n",
    "        return x*power(x,n/2)*power(x,n/2)\n",
    "ans=power(x,n)"
   ]
  },
  {
   "cell_type": "markdown",
   "id": "f3e7850c-cfcb-4505-a8c9-9244ec4e4d8d",
   "metadata": {},
   "source": [
    "#### Rolling  Dice Simulation"
   ]
  },
  {
   "cell_type": "markdown",
   "id": "0f7ca643-28d2-42fd-9ab7-1b1b924b357a",
   "metadata": {},
   "source": [
    "###### 1. Generating Random Numbers"
   ]
  },
  {
   "cell_type": "code",
   "execution_count": 1,
   "id": "00d139a8-54e0-47eb-9e39-8f4a08c89a80",
   "metadata": {},
   "outputs": [
    {
     "name": "stdout",
     "output_type": "stream",
     "text": [
      "92 23 66 57 30 57 42 23 85 85 23 40 50 98 51 95 73 79 75 56 "
     ]
    }
   ],
   "source": [
    "import random\n",
    "for roll in range(20):\n",
    "    print(random.randrange(1,100),end=' ')"
   ]
  },
  {
   "cell_type": "markdown",
   "id": "a15963cb-5c52-4a9b-92f4-1269e6fc299d",
   "metadata": {},
   "source": [
    "###### 2.Rolling dice 6,00,000 times"
   ]
  },
  {
   "cell_type": "code",
   "execution_count": 2,
   "id": "4b397965-b706-41f0-bd03-847046e04b10",
   "metadata": {},
   "outputs": [
    {
     "name": "stdout",
     "output_type": "stream",
     "text": [
      "1 have  99930\n",
      "2 have  100010\n",
      "3 have  99821\n",
      "4 have  100319\n",
      "5 have  100280\n",
      "6 have  99640\n"
     ]
    }
   ],
   "source": [
    "F1=0\n",
    "F2=0\n",
    "F3=0\n",
    "F4=0\n",
    "F5=0\n",
    "F6=0\n",
    "for i in range(6_00_000): # this is for better readability\n",
    "    dice= random.randrange(1,7)\n",
    "    if dice==1:\n",
    "        F1+=1\n",
    "    elif dice==2:\n",
    "        F2+=1\n",
    "    elif dice==3:\n",
    "        F3 +=1\n",
    "    elif dice==4:\n",
    "        F4 +=1\n",
    "    elif dice==5:\n",
    "        F5 +=1\n",
    "    elif dice==6:\n",
    "        F6 +=1\n",
    "print(\"1 have \",F1)\n",
    "print(\"2 have \",F2)\n",
    "print(\"3 have \",F3)\n",
    "print(\"4 have \",F4)\n",
    "print(\"5 have \",F5)\n",
    "print(\"6 have \",F6)"
   ]
  },
  {
   "cell_type": "markdown",
   "id": "04dd5c06-b463-4da1-b6aa-081e453feecf",
   "metadata": {},
   "source": [
    "###### Dice Rolling Game"
   ]
  },
  {
   "cell_type": "code",
   "execution_count": 43,
   "id": "cd9372d6-51e8-484d-bbbb-b700ab528e5d",
   "metadata": {},
   "outputs": [
    {
     "name": "stdout",
     "output_type": "stream",
     "text": [
      "Player rolled 3 + 2 = 5\n",
      "points is  5\n",
      "Player loses\n"
     ]
    }
   ],
   "source": [
    "import random\n",
    "def roll_dice():\n",
    "  die1 = random.randrange(1, 7)\n",
    "  die2 = random.randrange(1, 7)\n",
    "  return (die1, die2) # pack die face values into a tuple\n",
    "\n",
    "def display_dice(dice):\n",
    "   die1= dice[0]\n",
    "   die2=dice[1] # unpack the tuple into variables die1 and die2\n",
    "   print(f'Player rolled {die1} + {die2} = {sum(dice)}')\n",
    "\n",
    "die_values = roll_dice() # first roll\n",
    "display_dice(die_values)\n",
    "# determine game status and point, based on first roll\n",
    "sum_of_dice = sum(die_values)\n",
    "if sum_of_dice in (7, 11): # win\n",
    "    game_status = 'WON'\n",
    "elif sum_of_dice in (2, 3, 12): # lose\n",
    "    game_status = 'LOST'\n",
    "else : \n",
    "    my_point=sum_of_dice\n",
    "    game_status=\"countinue\"\n",
    "    print(\"points is \",my_point)\n",
    "\n",
    "while(game_status==\"continue\"):\n",
    "    die_values = roll_dice() # first roll\n",
    "    display_dice(die_values)\n",
    "    sum_of_dice = sum(die_values)\n",
    "    if sum_of_dice ==my_point  : # win\n",
    "         game_status = 'WON'\n",
    "    elif sum_of_dice == 7 : # lose\n",
    "         game_status = 'LOST'\n",
    "if game_status == 'WON':\n",
    "     print('Player wins')\n",
    "else:\n",
    "    print('Player loses')\n",
    "    "
   ]
  },
  {
   "cell_type": "markdown",
   "id": "6c88f3a0-983c-467a-92fe-83a666f234fb",
   "metadata": {},
   "source": [
    "##### Math Library"
   ]
  },
  {
   "cell_type": "code",
   "execution_count": 54,
   "id": "2d6fc732-7f52-4cc4-a88d-d1cd8eebf10c",
   "metadata": {},
   "outputs": [
    {
     "name": "stdin",
     "output_type": "stream",
     "text": [
      "enter number 23.2\n"
     ]
    },
    {
     "name": "stdout",
     "output_type": "stream",
     "text": [
      "4.8166378315169185\n",
      "24\n",
      "23\n",
      "11902329806.977129\n",
      "-0.9352099151945389\n",
      "3.1441522786722644\n",
      "1.3654879848908996\n"
     ]
    }
   ],
   "source": [
    "import math\n",
    "x=float(input(\"enter number\"))\n",
    "print(math.sqrt(x))\n",
    "print(math.ceil(x))\n",
    "print(math.floor(x))\n",
    "print(math.exp(x))\n",
    "print(math.sin(x)) # in radian\n",
    "print(math.log(x))\n",
    "print(math.log10(x))"
   ]
  },
  {
   "cell_type": "code",
   "execution_count": null,
   "id": "c205c03d-bb1f-49ba-a17e-ca5031f02bcd",
   "metadata": {},
   "outputs": [],
   "source": [
    "math. # press tap to view functionalities of library"
   ]
  },
  {
   "cell_type": "markdown",
   "id": "581f031f-8e45-4186-9ae5-7c95a9574ee1",
   "metadata": {},
   "source": [
    "#### Import module using From"
   ]
  },
  {
   "cell_type": "code",
   "execution_count": 5,
   "id": "62d04bcf-86aa-4380-a9dc-55b9e21aed02",
   "metadata": {},
   "outputs": [
    {
     "name": "stdout",
     "output_type": "stream",
     "text": [
      "ceil of number .543 is 1\n",
      "floor of number 4.6 is  4\n"
     ]
    }
   ],
   "source": [
    "from math import ceil,floor\n",
    "print(\"ceil of number .543 is\",ceil(.543))\n",
    "print(\"floor of number 4.6 is \",floor(4.6))"
   ]
  },
  {
   "cell_type": "code",
   "execution_count": 6,
   "id": "9cb52952-b439-4709-8db2-c529c3933cf9",
   "metadata": {},
   "outputs": [
    {
     "name": "stdout",
     "output_type": "stream",
     "text": [
      "ceil of number .543 is 1\n",
      "floor of number 4.6 is  4\n"
     ]
    }
   ],
   "source": [
    "# this will import all functions from math\n",
    "from math import *\n",
    "print(\"ceil of number .543 is\",ceil(.543))\n",
    "print(\"floor of number 4.6 is \",floor(4.6))"
   ]
  },
  {
   "cell_type": "markdown",
   "id": "12a48d46-15f0-4ffb-9920-e45737b37638",
   "metadata": {},
   "source": [
    "#### List Manupulations "
   ]
  },
  {
   "cell_type": "code",
   "execution_count": 20,
   "id": "bd14e308-1aa6-4a20-91ee-e3c377f265ed",
   "metadata": {},
   "outputs": [
    {
     "name": "stdout",
     "output_type": "stream",
     "text": [
      "After appending numbers \n",
      "[3, 5, 6, 7, 8, 9, 0, 1, 2]\n",
      "\n",
      "L1 after appending  ['H', 'e', 'l', 'l', 'o']\n",
      "\n",
      "L2 after appending  ['p', 'y', 't', 'h', 'o', 'n']\n",
      "\n",
      "concate L1 and L2 as\n",
      "L1+L2  ['H', 'e', 'l', 'l', 'o', 'p', 'y', 't', 'h', 'o', 'n']\n",
      "L2+L1  ['p', 'y', 't', 'h', 'o', 'n', 'H', 'e', 'l', 'l', 'o']\n",
      "\n",
      "Compareing L1 and L2\n",
      "is L1==L2 ? :  False\n",
      "is L1>L2 ? :  False\n",
      "is L2>L1 ? :  True\n"
     ]
    }
   ],
   "source": [
    "L=[3,5,6,7,8,9]\n",
    "for i in range(3):\n",
    "    L +=[i]\n",
    "print(\"After appending numbers \")\n",
    "print(L)\n",
    "print()\n",
    "\n",
    "L1=[]\n",
    "L1 +='Hello'\n",
    "print(\"L1 after appending \",L1)\n",
    "print()\n",
    "\n",
    "L2=[]\n",
    "L2 += \"python\"\n",
    "print(\"L2 after appending \",L2)\n",
    "print()\n",
    "\n",
    "print(\"concate L1 and L2 as\")\n",
    "print(\"L1+L2 \",L1+L2)\n",
    "print(\"L2+L1 \",L2+L1)\n",
    "print()\n",
    "\n",
    "print(\"Compareing L1 and L2\")\n",
    "print(\"is L1==L2 ? : \",L1==L2)\n",
    "print(\"is L1>L2 ? : \",L1>L2)\n",
    "print(\"is L2>L1 ? : \",L2>L1)"
   ]
  },
  {
   "cell_type": "markdown",
   "id": "eef50e97-8f9d-4787-9ecd-4825f2e8e658",
   "metadata": {},
   "source": [
    "##### Slicing "
   ]
  },
  {
   "cell_type": "code",
   "execution_count": 8,
   "id": "9aac726d-7f0a-4417-83a7-2dc44fed417b",
   "metadata": {},
   "outputs": [
    {
     "name": "stdout",
     "output_type": "stream",
     "text": [
      "slicing from start to index 3 :\n",
      "[3, 5, 67, 7]\n",
      "slicing form 4 to end \n",
      "[8, 9]\n",
      "slicing form end to 4 \n",
      "[67, 7, 8, 8, 9]\n"
     ]
    }
   ],
   "source": [
    "L=[3,5,67,7,8,8,9]\n",
    "print(\"slicing from start to index 3 :\")\n",
    "print(L[:4])\n",
    "print(\"slicing form 4 to end \")\n",
    "print(L[5:])\n",
    "print(\"slicing form end to 4 \")\n",
    "print(L[-5:])"
   ]
  },
  {
   "cell_type": "markdown",
   "id": "c75a98ce-8536-4fd1-9da7-84ccc350e623",
   "metadata": {},
   "source": [
    "#### Deleting Element using del"
   ]
  },
  {
   "cell_type": "code",
   "execution_count": 12,
   "id": "3c3527bb-8514-49a6-961c-15d09e026de9",
   "metadata": {},
   "outputs": [
    {
     "name": "stdout",
     "output_type": "stream",
     "text": [
      "after deleting element 4\n",
      "[4, 34, 323, 4, 532, 6, 6, 7]\n",
      "\n",
      "delete using slicing \n",
      "after deleting 2 to 5 \n",
      "[4, 34, 6, 6, 7]\n"
     ]
    }
   ],
   "source": [
    "L=[4,34,323,4,1,532,6,6,7]\n",
    "del L[4]\n",
    "print(\"after deleting element 4\")\n",
    "print(L)\n",
    "print()\n",
    "\n",
    "print(\"delete using slicing \")\n",
    "del L[2:5]\n",
    "print(\"after deleting elment  2 to 5 \")\n",
    "print(L)"
   ]
  },
  {
   "cell_type": "markdown",
   "id": "f543451f-136f-42cc-8f52-c4c442bfe015",
   "metadata": {},
   "source": [
    "#### Tuple Manupulations "
   ]
  },
  {
   "cell_type": "code",
   "execution_count": 7,
   "id": "023fd7e5-f6d6-4447-bb6d-eb4804026733",
   "metadata": {},
   "outputs": [
    {
     "name": "stdout",
     "output_type": "stream",
     "text": [
      "(1,)\n",
      "\n",
      "Takeing Input in Tuple via user using Concatination \n"
     ]
    },
    {
     "name": "stdin",
     "output_type": "stream",
     "text": [
      "enter no of element : 3\n"
     ]
    },
    {
     "name": "stdout",
     "output_type": "stream",
     "text": [
      "enter elements :\n"
     ]
    },
    {
     "name": "stdin",
     "output_type": "stream",
     "text": [
      " 2\n",
      " 5\n",
      " 6\n"
     ]
    },
    {
     "name": "stdout",
     "output_type": "stream",
     "text": [
      "(2, 5, 6)\n",
      "\n",
      "Method 2 of takeing input :\n",
      "enter element :\n"
     ]
    },
    {
     "name": "stdin",
     "output_type": "stream",
     "text": [
      " 2\n",
      " 1\n",
      " 4\n"
     ]
    },
    {
     "name": "stdout",
     "output_type": "stream",
     "text": [
      "(2, 1, 4)\n"
     ]
    }
   ],
   "source": [
    "## print(\"Declaring Tuple with single element \")\n",
    "t=(1,)\n",
    "print(t)\n",
    "print()\n",
    "\n",
    "print(\"Takeing Input in Tuple via user using Concatination \")\n",
    "t=()\n",
    "n=int(input(\"enter no of element :\"))\n",
    "print(\"enter elements :\")\n",
    "for i in range(n):\n",
    "    x=int(input())\n",
    "    tup=(x,)\n",
    "    t +=tup\n",
    "print(t)\n",
    "print()\n",
    "\n",
    "print(\"Method 2 of takeing input :\")\n",
    "T=()\n",
    "print(\"enter element :\")\n",
    "for i in range(n):\n",
    "    x=int(input())\n",
    "    T +=x,\n",
    "print(T)"
   ]
  },
  {
   "cell_type": "markdown",
   "id": "62aae3f3-56c1-478d-b131-f2fb99cabe20",
   "metadata": {},
   "source": [
    "##### Unpacking of All the Sqquences"
   ]
  },
  {
   "cell_type": "code",
   "execution_count": 4,
   "id": "fd9b3c9b-9693-462f-8d72-3245f8b4bd6c",
   "metadata": {},
   "outputs": [
    {
     "name": "stdout",
     "output_type": "stream",
     "text": [
      "unpacing of :  ('in the end everthing is gig', ['who ', 'are', 'gig', 'workers'])\n",
      "in the end everthing is gig\n",
      "['who ', 'are', 'gig', 'workers']\n",
      "\n",
      "upacking of  Gig\n",
      "G\n",
      "i\n",
      "g\n",
      "\n",
      "unpacking of  ['who', 'i', 'am']\n",
      "who\n",
      "i\n",
      "am\n"
     ]
    }
   ],
   "source": [
    "t=(\"in the end everthing is gig\",[\"who \",\"are\",\"gig\",\"workers\"])\n",
    "charle_chaplin , latters=t\n",
    "print(\"unpacing of : \",t)\n",
    "print(charle_chaplin)\n",
    "print(latters)\n",
    "print()\n",
    "\n",
    "S=\"Gig\"\n",
    "s1,s2,s3=S\n",
    "print(\"upacking of \",S)\n",
    "print(s1)\n",
    "print(s2)\n",
    "print(s3)\n",
    "print()\n",
    "\n",
    "L1=[\"who\",\"i\",\"am\"]\n",
    "s1,s2,s3=L1\n",
    "print(\"unpacking of \",L1)\n",
    "print(s1)\n",
    "print(s2)\n",
    "print(s3)"
   ]
  },
  {
   "cell_type": "markdown",
   "id": "7aa54d93-c3cf-4540-8b1a-3e41b7c5f058",
   "metadata": {},
   "source": [
    "###### .1 Swapping using unpacking and Packing"
   ]
  },
  {
   "cell_type": "code",
   "execution_count": 5,
   "id": "85d549f5-fcd5-4361-b2b8-981f2bf3302c",
   "metadata": {},
   "outputs": [
    {
     "name": "stdout",
     "output_type": "stream",
     "text": [
      "43\n",
      "32\n"
     ]
    }
   ],
   "source": [
    "n=32\n",
    "m=43\n",
    "n,m=(m,n)\n",
    "print(n)\n",
    "print(m)"
   ]
  },
  {
   "cell_type": "markdown",
   "id": "1f8512b8-c947-4c46-9fc5-e5c230e7f412",
   "metadata": {},
   "source": [
    "#### Build In Function enumurate instead of range"
   ]
  },
  {
   "cell_type": "code",
   "execution_count": 14,
   "id": "983bc296-c97b-4f0e-b61a-781c58fb70c9",
   "metadata": {},
   "outputs": [
    {
     "name": "stdout",
     "output_type": "stream",
     "text": [
      "[(0, 'red'), (1, 'black'), (2, 'blue')]\n",
      "((0, 'red'), (1, 'black'), (2, 'blue'))\n",
      "3  :  56\n",
      "1  :  black\n",
      "2  :  blue\n"
     ]
    }
   ],
   "source": [
    "L=[\"red\",\"black\",\"blue\"]\n",
    "print(list(enumerate(L)))\n",
    "print(tuple(enumerate(L)))\n",
    "L1=list(enumerate(L))\n",
    "L1[0]=3,56\n",
    "for index,element in L1:\n",
    "    print(index,\" : \",element)\n",
    "\n",
    "L2=tuple(enumerate(L))"
   ]
  },
  {
   "cell_type": "code",
   "execution_count": null,
   "id": "27e949f3-f2e7-4e65-9e85-b439fef2b1ae",
   "metadata": {},
   "outputs": [],
   "source": []
  }
 ],
 "metadata": {
  "kernelspec": {
   "display_name": "Python 3 (ipykernel)",
   "language": "python",
   "name": "python3"
  },
  "language_info": {
   "codemirror_mode": {
    "name": "ipython",
    "version": 3
   },
   "file_extension": ".py",
   "mimetype": "text/x-python",
   "name": "python",
   "nbconvert_exporter": "python",
   "pygments_lexer": "ipython3",
   "version": "3.12.4"
  }
 },
 "nbformat": 4,
 "nbformat_minor": 5
}
